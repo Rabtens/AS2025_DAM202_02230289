{
  "nbformat": 4,
  "nbformat_minor": 0,
  "metadata": {
    "colab": {
      "provenance": [],
      "gpuType": "T4"
    },
    "kernelspec": {
      "name": "python3",
      "display_name": "Python 3"
    },
    "language_info": {
      "name": "python"
    },
    "accelerator": "GPU"
  },
  "cells": [
    {
      "cell_type": "markdown",
      "source": [
        "# Practical 5: English to French Translation using Attention Mechanism with TensorFlow"
      ],
      "metadata": {
        "id": "4NXHVWSEGxim"
      }
    },
    {
      "cell_type": "markdown",
      "source": [
        "## Prerequisites\n",
        "## Required Libraries"
      ],
      "metadata": {
        "id": "VXXsGu2OG-Mp"
      }
    },
    {
      "cell_type": "code",
      "execution_count": 99,
      "metadata": {
        "id": "K2TwTtUhFopn"
      },
      "outputs": [],
      "source": [
        "import tensorflow as tf\n",
        "import numpy as np\n",
        "import pandas as pd\n",
        "import matplotlib.pyplot as plt\n",
        "import matplotlib.ticker as ticker\n",
        "import re\n",
        "import os\n",
        "import time\n",
        "from sklearn.model_selection import train_test_split\n",
        "import unicodedata"
      ]
    },
    {
      "cell_type": "markdown",
      "source": [
        "## Installation"
      ],
      "metadata": {
        "id": "0CeK2LpQHN-i"
      }
    },
    {
      "cell_type": "code",
      "source": [
        "!pip install tensorflow>=2.8.0\n",
        "!pip install numpy pandas matplotlib scikit-learn"
      ],
      "metadata": {
        "colab": {
          "base_uri": "https://localhost:8080/"
        },
        "id": "zGHPx7wFHHrC",
        "outputId": "a373dbd8-0578-48c4-ca60-8d23880caf7f"
      },
      "execution_count": 100,
      "outputs": [
        {
          "output_type": "stream",
          "name": "stdout",
          "text": [
            "Requirement already satisfied: numpy in /usr/local/lib/python3.12/dist-packages (2.0.2)\n",
            "Requirement already satisfied: pandas in /usr/local/lib/python3.12/dist-packages (2.2.2)\n",
            "Requirement already satisfied: matplotlib in /usr/local/lib/python3.12/dist-packages (3.10.0)\n",
            "Requirement already satisfied: scikit-learn in /usr/local/lib/python3.12/dist-packages (1.6.1)\n",
            "Requirement already satisfied: python-dateutil>=2.8.2 in /usr/local/lib/python3.12/dist-packages (from pandas) (2.9.0.post0)\n",
            "Requirement already satisfied: pytz>=2020.1 in /usr/local/lib/python3.12/dist-packages (from pandas) (2025.2)\n",
            "Requirement already satisfied: tzdata>=2022.7 in /usr/local/lib/python3.12/dist-packages (from pandas) (2025.2)\n",
            "Requirement already satisfied: contourpy>=1.0.1 in /usr/local/lib/python3.12/dist-packages (from matplotlib) (1.3.3)\n",
            "Requirement already satisfied: cycler>=0.10 in /usr/local/lib/python3.12/dist-packages (from matplotlib) (0.12.1)\n",
            "Requirement already satisfied: fonttools>=4.22.0 in /usr/local/lib/python3.12/dist-packages (from matplotlib) (4.60.1)\n",
            "Requirement already satisfied: kiwisolver>=1.3.1 in /usr/local/lib/python3.12/dist-packages (from matplotlib) (1.4.9)\n",
            "Requirement already satisfied: packaging>=20.0 in /usr/local/lib/python3.12/dist-packages (from matplotlib) (25.0)\n",
            "Requirement already satisfied: pillow>=8 in /usr/local/lib/python3.12/dist-packages (from matplotlib) (11.3.0)\n",
            "Requirement already satisfied: pyparsing>=2.3.1 in /usr/local/lib/python3.12/dist-packages (from matplotlib) (3.2.5)\n",
            "Requirement already satisfied: scipy>=1.6.0 in /usr/local/lib/python3.12/dist-packages (from scikit-learn) (1.16.2)\n",
            "Requirement already satisfied: joblib>=1.2.0 in /usr/local/lib/python3.12/dist-packages (from scikit-learn) (1.5.2)\n",
            "Requirement already satisfied: threadpoolctl>=3.1.0 in /usr/local/lib/python3.12/dist-packages (from scikit-learn) (3.6.0)\n",
            "Requirement already satisfied: six>=1.5 in /usr/local/lib/python3.12/dist-packages (from python-dateutil>=2.8.2->pandas) (1.17.0)\n"
          ]
        }
      ]
    },
    {
      "cell_type": "markdown",
      "source": [
        "## Dataset Preparation"
      ],
      "metadata": {
        "id": "e5m7GbieHf23"
      }
    },
    {
      "cell_type": "markdown",
      "source": [
        "## Download English-French Dataset"
      ],
      "metadata": {
        "id": "Z_smquA5HkCT"
      }
    },
    {
      "cell_type": "code",
      "source": [
        "import urllib.request\n",
        "import zipfile\n",
        "import os\n",
        "\n",
        "def download_and_extract_dataset():\n",
        "    \"\"\"Download English-French dataset from Anki with User-Agent\"\"\"\n",
        "    url = \"http://www.manythings.org/anki/fra-eng.zip\"\n",
        "    zip_path = \"fra-eng.zip\"\n",
        "\n",
        "    # Create a Request with a User-Agent header\n",
        "    req = urllib.request.Request(url, headers={'User-Agent': 'Mozilla/5.0 (Linux; Android 13; SM-G981B) AppleWebKit/537.36 (KHTML, like Gecko) Chrome/141.0.0.0 Mobile Safari/537.36'})\n",
        "\n",
        "    # Download dataset\n",
        "    with urllib.request.urlopen(req) as response, open(zip_path, 'wb') as out_file:\n",
        "        data = response.read()\n",
        "        out_file.write(data)\n",
        "\n",
        "    # Extract dataset\n",
        "    with zipfile.ZipFile(zip_path, 'r') as zip_ref:\n",
        "        zip_ref.extractall('.')\n",
        "\n",
        "    # Clean up\n",
        "    os.remove(zip_path)\n",
        "    print(\"Dataset downloaded and extracted successfully!\")\n",
        "\n",
        "# Uncomment to download\n",
        "download_and_extract_dataset()"
      ],
      "metadata": {
        "colab": {
          "base_uri": "https://localhost:8080/"
        },
        "id": "vK2HGbJ0HRbM",
        "outputId": "abdb3019-210d-4930-b815-b98c8f154f21"
      },
      "execution_count": 101,
      "outputs": [
        {
          "output_type": "stream",
          "name": "stdout",
          "text": [
            "Dataset downloaded and extracted successfully!\n"
          ]
        }
      ]
    },
    {
      "cell_type": "markdown",
      "source": [
        "## Load Dataset Function"
      ],
      "metadata": {
        "id": "JDmne3bnHvcG"
      }
    },
    {
      "cell_type": "code",
      "source": [
        "def load_dataset(path='fra.txt', num_examples=50000):\n",
        "    \"\"\"Load and prepare the dataset\"\"\"\n",
        "    lines = open(path, encoding='UTF-8').read().strip().split('\\n')\n",
        "\n",
        "    word_pairs = []\n",
        "    for line in lines[:num_examples]:\n",
        "        # Split by tab (format: English\\tFrench)\n",
        "        parts = line.split('\\t')\n",
        "        if len(parts) >= 2:\n",
        "            word_pairs.append([parts[0], parts[1]])\n",
        "\n",
        "    return zip(*word_pairs)"
      ],
      "metadata": {
        "id": "YweFA4sGHnCL"
      },
      "execution_count": 102,
      "outputs": []
    },
    {
      "cell_type": "markdown",
      "source": [
        "## Text Preprocessing"
      ],
      "metadata": {
        "id": "Ie9J1c60H1U0"
      }
    },
    {
      "cell_type": "markdown",
      "source": [
        "## Text Cleaning and Normalization"
      ],
      "metadata": {
        "id": "l_WbzWUaH7B4"
      }
    },
    {
      "cell_type": "code",
      "source": [
        "def unicode_to_ascii(s):\n",
        "    \"\"\"Convert unicode string to ascii\"\"\"\n",
        "    return ''.join(c for c in unicodedata.normalize('NFD', s)\n",
        "                   if unicodedata.category(c) != 'Mn')\n",
        "\n",
        "def preprocess_sentence(w):\n",
        "    \"\"\"Clean and preprocess sentence\"\"\"\n",
        "    w = unicode_to_ascii(w.lower().strip())\n",
        "\n",
        "    # Add spaces around punctuation\n",
        "    w = re.sub(r\"([?.!,¿])\", r\" \\1 \", w)\n",
        "    w = re.sub(r'[\" \"]+', \" \", w)\n",
        "\n",
        "    # Replace non-letter characters with space (except punctuation)\n",
        "    w = re.sub(r\"[^a-zA-Z?.!,¿]+\", \" \", w)\n",
        "\n",
        "    w = w.strip()\n",
        "\n",
        "    # Add start and end tokens\n",
        "    w = '<start> ' + w + ' <end>'\n",
        "    return w\n",
        "\n",
        "def create_dataset(path, num_examples=50000):\n",
        "    \"\"\"Create preprocessed dataset\"\"\"\n",
        "    lines = open(path, encoding='UTF-8').read().strip().split('\\n')\n",
        "\n",
        "    word_pairs = []\n",
        "    for line in lines[:num_examples]:\n",
        "        parts = line.split('\\t')\n",
        "        if len(parts) >= 2:\n",
        "            english = preprocess_sentence(parts[0])\n",
        "            french = preprocess_sentence(parts[1])\n",
        "            word_pairs.append([english, french])\n",
        "\n",
        "    return zip(*word_pairs)"
      ],
      "metadata": {
        "id": "kZ1ICSaLHyQJ"
      },
      "execution_count": 103,
      "outputs": []
    },
    {
      "cell_type": "markdown",
      "source": [
        "## Tokenization and Vocabulary Creation"
      ],
      "metadata": {
        "id": "oUvJggsgIAz_"
      }
    },
    {
      "cell_type": "code",
      "source": [
        "class LanguageTokenizer:\n",
        "    def __init__(self):\n",
        "        self.word2idx = {}\n",
        "        self.idx2word = {}\n",
        "        self.vocab = set()\n",
        "        self.max_length = 0 # Added max_length attribute\n",
        "\n",
        "    def create_tokenizer(self, dataset):\n",
        "        \"\"\"Create tokenizer from dataset\"\"\"\n",
        "        for sentence in dataset:\n",
        "            words = sentence.split(' ')\n",
        "            self.max_length = max(self.max_length, len(words)) # Calculate max length\n",
        "            for word in words:\n",
        "                if word not in self.vocab:\n",
        "                    self.vocab.add(word)\n",
        "\n",
        "        # Sort vocabulary\n",
        "        self.vocab = sorted(self.vocab)\n",
        "\n",
        "        # Create word to index mapping\n",
        "        self.word2idx['<pad>'] = 0\n",
        "        for index, word in enumerate(self.vocab):\n",
        "            self.word2idx[word] = index + 1\n",
        "\n",
        "        # Create index to word mapping\n",
        "        for word, index in self.word2idx.items():\n",
        "            self.idx2word[index] = word\n",
        "\n",
        "        return self.word2idx, self.idx2word\n",
        "\n",
        "    def encode(self, sentence, max_length):\n",
        "        \"\"\"Convert sentence to sequence of indices\"\"\"\n",
        "        sequence = [self.word2idx.get(word, 0) for word in sentence.split(' ')]\n",
        "        sequence = sequence[:max_length]\n",
        "        sequence += [0] * (max_length - len(sequence))\n",
        "        return sequence\n",
        "\n",
        "    def decode(self, sequence):\n",
        "        \"\"\"Convert sequence of indices back to sentence\"\"\"\n",
        "        return ' '.join([self.idx2word.get(idx, '<unk>') for idx in sequence if idx != 0])\n",
        "\n",
        "def create_tokenizers_and_datasets(en_sentences, fr_sentences):\n",
        "    \"\"\"Create tokenizers and convert sentences to sequences\"\"\"\n",
        "    # Create tokenizers\n",
        "    en_tokenizer = LanguageTokenizer()\n",
        "    fr_tokenizer = LanguageTokenizer()\n",
        "\n",
        "    en_tokenizer.create_tokenizer(en_sentences)\n",
        "    fr_tokenizer.create_tokenizer(fr_sentences)\n",
        "\n",
        "    # Find max length\n",
        "    en_max_length = en_tokenizer.max_length\n",
        "    fr_max_length = fr_tokenizer.max_length\n",
        "\n",
        "    print(f'English max length: {en_max_length}')\n",
        "    print(f'French max length: {fr_max_length}')\n",
        "    print(f'English vocab size: {len(en_tokenizer.word2idx)}')\n",
        "    print(f'French vocab size: {len(fr_tokenizer.word2idx)}')\n",
        "\n",
        "    # Convert to sequences\n",
        "    input_tensor = np.array([en_tokenizer.encode(sentence, en_max_length)\n",
        "                           for sentence in en_sentences])\n",
        "    target_tensor = np.array([fr_tokenizer.encode(sentence, fr_max_length)\n",
        "                            for sentence in fr_sentences])\n",
        "\n",
        "    return input_tensor, target_tensor, en_tokenizer, fr_tokenizer, en_max_length, fr_max_length"
      ],
      "metadata": {
        "id": "zQAu-oYvH9pM"
      },
      "execution_count": 104,
      "outputs": []
    },
    {
      "cell_type": "markdown",
      "source": [
        "## Model Architecture\n",
        "## Encoder Class"
      ],
      "metadata": {
        "id": "LSjKQMdbIXX8"
      }
    },
    {
      "cell_type": "code",
      "source": [
        "class Encoder(tf.keras.layers.Layer):\n",
        "    def __init__(self, vocab_size, embedding_dim, enc_units, batch_size):\n",
        "        super(Encoder, self).__init__()\n",
        "        self.batch_size = batch_size\n",
        "        self.enc_units = enc_units\n",
        "\n",
        "        # Embedding layer\n",
        "        self.embedding = tf.keras.layers.Embedding(vocab_size, embedding_dim)\n",
        "\n",
        "        # Bidirectional LSTM\n",
        "        self.lstm = tf.keras.layers.Bidirectional(\n",
        "            tf.keras.layers.LSTM(enc_units,\n",
        "                               return_sequences=True,\n",
        "                               return_state=True,\n",
        "                               recurrent_initializer='glorot_uniform'),\n",
        "            merge_mode='sum'\n",
        "        )\n",
        "\n",
        "    def call(self, x, hidden):\n",
        "        # x shape: (batch_size, max_length)\n",
        "        x = self.embedding(x)\n",
        "        # x shape after embedding: (batch_size, max_length, embedding_dim)\n",
        "\n",
        "        output, forward_h, forward_c, backward_h, backward_c = self.lstm(x, initial_state=hidden)\n",
        "\n",
        "        # Combine forward and backward states\n",
        "        state_h = tf.keras.layers.Add()([forward_h, backward_h])\n",
        "        state_c = tf.keras.layers.Add()([forward_c, backward_c])\n",
        "\n",
        "        return output, state_h, state_c\n",
        "\n",
        "    def initialize_hidden_state(self):\n",
        "        # For bidirectional LSTM, we need states for both directions\n",
        "        return [tf.zeros((self.batch_size, self.enc_units)) for _ in range(4)]"
      ],
      "metadata": {
        "id": "TT9VsDXmIEJ7"
      },
      "execution_count": 105,
      "outputs": []
    },
    {
      "cell_type": "markdown",
      "source": [
        "## Attention Mechanism (Luong Attention)"
      ],
      "metadata": {
        "id": "RylPRvmvImMO"
      }
    },
    {
      "cell_type": "code",
      "source": [
        "class LuongAttention(tf.keras.layers.Layer):\n",
        "    def __init__(self, units):\n",
        "        super(LuongAttention, self).__init__()\n",
        "        self.units = units\n",
        "        # Attention weight matrix (for 'general' score function)\n",
        "        self.W = tf.keras.layers.Dense(units)\n",
        "\n",
        "    def call(self, query, values):\n",
        "        # query shape: (batch_size, hidden_size)\n",
        "        # values shape: (batch_size, max_len, hidden_size)\n",
        "\n",
        "        # Apply linear transformation to values (encoder outputs)\n",
        "        # values_transformed shape: (batch_size, max_len, units)\n",
        "        values_transformed = self.W(values)\n",
        "\n",
        "        # Expand query to match values dimensions for batch matrix multiplication\n",
        "        # query_with_time_axis shape: (batch_size, 1, hidden_size)\n",
        "        query_with_time_axis = tf.expand_dims(query, 1)\n",
        "\n",
        "        # Calculate attention scores using dot product (general score function)\n",
        "        # score shape: (batch_size, 1, max_len)\n",
        "        score = tf.matmul(query_with_time_axis, values_transformed, transpose_b=True)\n",
        "\n",
        "        # Apply softmax to get attention weights\n",
        "        # attention_weights shape: (batch_size, 1, max_len)\n",
        "        attention_weights = tf.nn.softmax(score, axis=2)\n",
        "\n",
        "        # Calculate context vector\n",
        "        # context_vector shape: (batch_size, 1, hidden_size)\n",
        "        context_vector = tf.matmul(attention_weights, values)\n",
        "\n",
        "        # Remove time dimension from context vector and attention weights\n",
        "        # context_vector shape: (batch_size, hidden_size)\n",
        "        context_vector = tf.squeeze(context_vector, 1)\n",
        "        # attention_weights shape: (batch_size, max_len)\n",
        "        attention_weights = tf.squeeze(attention_weights, 1)\n",
        "\n",
        "\n",
        "        return context_vector, attention_weights"
      ],
      "metadata": {
        "id": "F08gpkcPIcQc"
      },
      "execution_count": 106,
      "outputs": []
    },
    {
      "cell_type": "markdown",
      "source": [
        "## Decoder Class"
      ],
      "metadata": {
        "id": "nGztZzmZIsCA"
      }
    },
    {
      "cell_type": "code",
      "source": [
        "class Decoder(tf.keras.layers.Layer):\n",
        "    def __init__(self, vocab_size, embedding_dim, dec_units, batch_size, attention_type='luong'):\n",
        "        super(Decoder, self).__init__()\n",
        "        self.batch_size = batch_size\n",
        "        self.dec_units = dec_units\n",
        "        self.vocab_size = vocab_size\n",
        "\n",
        "        # Layers\n",
        "        self.embedding = tf.keras.layers.Embedding(vocab_size, embedding_dim)\n",
        "        self.lstm = tf.keras.layers.LSTM(dec_units,\n",
        "                                       return_sequences=True,\n",
        "                                       return_state=True,\n",
        "                                       recurrent_initializer='glorot_uniform')\n",
        "\n",
        "        self.attention = LuongAttention(dec_units)\n",
        "\n",
        "        # Final output layer\n",
        "        self.Wc = tf.keras.layers.Dense(dec_units, activation='tanh')\n",
        "        self.fc = tf.keras.layers.Dense(vocab_size)\n",
        "\n",
        "    def call(self, x, hidden, enc_output):\n",
        "        # Debugging print statements\n",
        "        # print(\"Decoder input x shape:\", x.shape)\n",
        "\n",
        "        # x shape: (batch_size, 1)\n",
        "        # hidden shape: (batch_size, dec_units)\n",
        "        # enc_output shape: (batch_size, max_length, hidden_size)\n",
        "\n",
        "        # Pass through embedding\n",
        "        x = self.embedding(x)\n",
        "        # x shape after embedding: (batch_size, 1, embedding_dim)\n",
        "        # print(\"Decoder embedding output shape:\", x.shape)\n",
        "\n",
        "\n",
        "        # Pass through LSTM\n",
        "        output, state_h, state_c = self.lstm(x, initial_state=hidden)\n",
        "        # output shape: (batch_size, 1, dec_units)\n",
        "\n",
        "        # Squeeze the time dimension for attention query\n",
        "        query = tf.squeeze(output, axis=1) # query shape: (batch_size, dec_units)\n",
        "\n",
        "        # Calculate attention\n",
        "        context_vector, attention_weights = self.attention(query, enc_output)\n",
        "        # context_vector shape: (batch_size, dec_units)\n",
        "        # attention_weights shape: (batch_size, max_len)\n",
        "\n",
        "        # Combine context vector and decoder output\n",
        "        # output shape: (batch_size, 1, dec_units) -> squeeze to (batch_size, dec_units)\n",
        "        output = tf.concat([context_vector, tf.squeeze(output, 1)], axis=-1)\n",
        "\n",
        "        # Add time dimension back and apply final transformations\n",
        "        output = tf.expand_dims(output, 1) # output shape: (batch_size, 1, 2 * dec_units)\n",
        "        output = self.Wc(output) # output shape: (batch_size, 1, dec_units)\n",
        "        output = tf.reshape(output, (-1, output.shape[2])) # output shape: (batch_size, dec_units)\n",
        "\n",
        "        # Final prediction\n",
        "        x = self.fc(output)\n",
        "\n",
        "        return x, [state_h, state_c], attention_weights"
      ],
      "metadata": {
        "id": "WyBBFpqqIozH"
      },
      "execution_count": 107,
      "outputs": []
    },
    {
      "cell_type": "markdown",
      "source": [
        "## Complete Model Class"
      ],
      "metadata": {
        "id": "dCFCPcp8JPAU"
      }
    },
    {
      "cell_type": "code",
      "source": [
        "class EncoderDecoderModel(tf.keras.Model):\n",
        "    def __init__(self, enc_vocab_size, dec_vocab_size, embedding_dim,\n",
        "                 enc_units, dec_units, batch_size):\n",
        "        super(EncoderDecoderModel, self).__init__()\n",
        "\n",
        "        self.encoder = Encoder(enc_vocab_size, embedding_dim, enc_units, batch_size)\n",
        "        self.decoder = Decoder(dec_vocab_size, embedding_dim, dec_units, batch_size)\n",
        "\n",
        "        self.dec_vocab_size = dec_vocab_size\n",
        "\n",
        "    def call(self, inputs, training=True):\n",
        "        enc_input, dec_input = inputs\n",
        "\n",
        "        # Initialize encoder hidden state\n",
        "        enc_hidden = self.encoder.initialize_hidden_state()\n",
        "\n",
        "        # Encode\n",
        "        enc_output, enc_h, enc_c = self.encoder(enc_input, enc_hidden)\n",
        "\n",
        "        # Initialize decoder hidden state with encoder states\n",
        "        dec_hidden = [enc_h, enc_c]\n",
        "\n",
        "        # Decode\n",
        "        predictions = []\n",
        "        attention_weights_list = []\n",
        "\n",
        "        for t in range(dec_input.shape[1]):\n",
        "            dec_input_t = tf.expand_dims(dec_input[:, t], 1)\n",
        "\n",
        "            predictions_t, dec_hidden, attention_weights = self.decoder(\n",
        "                dec_input_t, dec_hidden, enc_output)\n",
        "\n",
        "            predictions.append(predictions_t)\n",
        "            attention_weights_list.append(attention_weights)\n",
        "\n",
        "        # Stack predictions\n",
        "        predictions = tf.stack(predictions, axis=1)\n",
        "\n",
        "        return predictions, attention_weights_list"
      ],
      "metadata": {
        "id": "cyoV596-Iwaq"
      },
      "execution_count": 108,
      "outputs": []
    },
    {
      "cell_type": "markdown",
      "source": [
        "## Training\n",
        "## Loss Function and Optimizer"
      ],
      "metadata": {
        "id": "wrbzCUw2JT-I"
      }
    },
    {
      "cell_type": "code",
      "source": [
        "def loss_function(real, pred):\n",
        "    \"\"\"Custom loss function that ignores padding tokens\"\"\"\n",
        "    loss_object = tf.keras.losses.SparseCategoricalCrossentropy(\n",
        "        from_logits=True, reduction='none')\n",
        "\n",
        "    loss = loss_object(real, pred)\n",
        "\n",
        "    # Create mask to ignore padding tokens\n",
        "    mask = tf.math.logical_not(tf.math.equal(real, 0))\n",
        "    mask = tf.cast(mask, dtype=loss.dtype)\n",
        "\n",
        "    loss *= mask\n",
        "\n",
        "    return tf.reduce_mean(loss)\n",
        "\n",
        "# Optimizer\n",
        "optimizer = tf.keras.optimizers.Adam(learning_rate=0.001)"
      ],
      "metadata": {
        "id": "uerRK9_tJRV6"
      },
      "execution_count": 109,
      "outputs": []
    },
    {
      "cell_type": "markdown",
      "source": [
        "## Training Step"
      ],
      "metadata": {
        "id": "wlfmsF9aJdyE"
      }
    },
    {
      "cell_type": "code",
      "source": [
        "#@tf.function # Removed tf.function decorator\n",
        "def train_step(inp, targ, model):\n",
        "    loss = 0\n",
        "\n",
        "    with tf.GradientTape() as tape:\n",
        "        # Teacher forcing - feeding the target as the next input\n",
        "        dec_input = targ[:, :-1]\n",
        "        dec_target = targ[:, 1:]\n",
        "\n",
        "        predictions, attention_weights = model([inp, dec_input], training=True)\n",
        "\n",
        "        loss = loss_function(dec_target, predictions)\n",
        "\n",
        "    variables = model.trainable_variables\n",
        "    gradients = tape.gradient(loss, variables)\n",
        "\n",
        "    # Gradient clipping\n",
        "    gradients, _ = tf.clip_by_global_norm(gradients, 1.0)\n",
        "\n",
        "    optimizer.apply_gradients(zip(gradients, variables))\n",
        "\n",
        "    return loss"
      ],
      "metadata": {
        "id": "7hbwHjLoJXeE"
      },
      "execution_count": 110,
      "outputs": []
    },
    {
      "cell_type": "markdown",
      "source": [
        "## Training Loop"
      ],
      "metadata": {
        "id": "qhmUjf2hJmqD"
      }
    },
    {
      "cell_type": "code",
      "source": [
        "def train_model(model, dataset, epochs, steps_per_epoch):\n",
        "    \"\"\"Train the model\"\"\"\n",
        "\n",
        "    print(\"Starting training...\")\n",
        "\n",
        "    for epoch in range(epochs):\n",
        "        start = time.time()\n",
        "\n",
        "        total_loss = 0\n",
        "\n",
        "        for (batch, (inp, targ)) in enumerate(dataset.take(steps_per_epoch)):\n",
        "            batch_loss = train_step(inp, targ, model)\n",
        "            total_loss += batch_loss\n",
        "\n",
        "            if batch % 100 == 0:\n",
        "                print(f'Epoch {epoch+1} Batch {batch} Loss {batch_loss.numpy():.4f}')\n",
        "\n",
        "        print(f'Epoch {epoch+1} Loss {total_loss/steps_per_epoch:.4f}')\n",
        "        print(f'Time taken for 1 epoch {time.time()-start:.2f} sec\\n')\n",
        "\n",
        "        # Save checkpoint every 5 epochs\n",
        "        if (epoch + 1) % 5 == 0:\n",
        "            model.save_weights(f'checkpoints/ckpt-{epoch+1}.weights.h5')\n",
        "            print(f'Checkpoint saved at epoch {epoch+1}')"
      ],
      "metadata": {
        "id": "dBEKdtv1JgDq"
      },
      "execution_count": 111,
      "outputs": []
    },
    {
      "cell_type": "markdown",
      "source": [
        "## Inference and Translation\n",
        "## Translation Function"
      ],
      "metadata": {
        "id": "LhozPnqkJsKY"
      }
    },
    {
      "cell_type": "code",
      "source": [
        "def translate(sentence, model, en_tokenizer, fr_tokenizer, max_length_fr):\n",
        "    \"\"\"Translate a sentence from English to French\"\"\"\n",
        "\n",
        "    sentence = preprocess_sentence(sentence)\n",
        "\n",
        "    inputs = [en_tokenizer.encode(sentence, en_tokenizer.max_length)] # Use encoder max length\n",
        "    inputs = tf.convert_to_tensor(inputs)\n",
        "\n",
        "    result = ''\n",
        "    # Initialize hidden state with batch size 1 for inference\n",
        "    hidden = [tf.zeros((1, model.encoder.enc_units)) for _ in range(4)]\n",
        "    enc_out, enc_h, enc_c = model.encoder(inputs, hidden)\n",
        "\n",
        "    dec_hidden = [enc_h, enc_c]\n",
        "    dec_input = tf.expand_dims([fr_tokenizer.word2idx['<start>']], 0)\n",
        "\n",
        "    # Initialize attention_plot with shape based on max possible lengths\n",
        "    # The size of the attention weights will be (1, max_length_en) during inference\n",
        "    attention_plot = np.zeros((max_length_fr, en_tokenizer.max_length))\n",
        "\n",
        "\n",
        "    for t in range(max_length_fr):\n",
        "        predictions, dec_hidden, attention_weights = model.decoder(\n",
        "            dec_input, dec_hidden, enc_out)\n",
        "\n",
        "        # Store attention weights for plotting\n",
        "        # attention_weights shape: (1, max_len) during inference\n",
        "        # Reshape to (max_len,) to match the dimension of attention_plot slice\n",
        "        attention_plot[t] = tf.reshape(attention_weights, (en_tokenizer.max_length,)).numpy()\n",
        "\n",
        "\n",
        "        predicted_id = tf.argmax(predictions[0]).numpy()\n",
        "\n",
        "        predicted_token = fr_tokenizer.idx2word.get(predicted_id, '<unk>')\n",
        "        result += predicted_token + ' '\n",
        "\n",
        "        if predicted_token == '<end>':\n",
        "            break\n",
        "\n",
        "        # The predicted ID is fed back into the model\n",
        "        dec_input = tf.expand_dims([predicted_id], 0)\n",
        "\n",
        "    return result.strip(), sentence, attention_plot\n",
        "\n",
        "def evaluate_translation(sentence, model, en_tokenizer, fr_tokenizer, max_length_fr):\n",
        "    \"\"\"Evaluate a single translation\"\"\"\n",
        "    result, sentence, attention_plot = translate(sentence, model, en_tokenizer,\n",
        "                                               fr_tokenizer, max_length_fr)\n",
        "\n",
        "    print(f'Input: {sentence}')\n",
        "    print(f'Predicted translation: {result}')\n",
        "\n",
        "    return result, attention_plot"
      ],
      "metadata": {
        "id": "mGxpqWsZJpci"
      },
      "execution_count": 112,
      "outputs": []
    },
    {
      "cell_type": "markdown",
      "source": [
        "## Evaluation\n",
        "## BLEU Score Implementation"
      ],
      "metadata": {
        "id": "40Q9Cq6BJ0o2"
      }
    },
    {
      "cell_type": "code",
      "source": [
        "from collections import Counter\n",
        "import math\n",
        "\n",
        "def calculate_bleu_score(reference, candidate, n=4):\n",
        "    \"\"\"Calculate BLEU score for a single sentence pair\"\"\"\n",
        "    reference_tokens = reference.split()\n",
        "    candidate_tokens = candidate.split()\n",
        "\n",
        "    if len(candidate_tokens) == 0:\n",
        "        return 0.0\n",
        "\n",
        "    # Calculate precision for n-grams\n",
        "    precisions = []\n",
        "\n",
        "    for i in range(1, n + 1):\n",
        "        ref_ngrams = Counter([' '.join(reference_tokens[j:j+i])\n",
        "                             for j in range(len(reference_tokens) - i + 1)])\n",
        "        cand_ngrams = Counter([' '.join(candidate_tokens[j:j+i])\n",
        "                              for j in range(len(candidate_tokens) - i + 1)])\n",
        "\n",
        "        if sum(cand_ngrams.values()) == 0:\n",
        "            precisions.append(0.0)\n",
        "            continue\n",
        "\n",
        "        matches = sum((ref_ngrams & cand_ngrams).values())\n",
        "        total = sum(cand_ngrams.values())\n",
        "        precision = matches / total\n",
        "        precisions.append(precision)\n",
        "\n",
        "    # Brevity penalty\n",
        "    bp = 1.0\n",
        "    if len(candidate_tokens) < len(reference_tokens):\n",
        "        bp = math.exp(1 - len(reference_tokens) / len(candidate_tokens))\n",
        "\n",
        "    # Geometric mean of precisions\n",
        "    if all(p > 0 for p in precisions):\n",
        "        bleu = bp * math.exp(sum(math.log(p) for p in precisions) / len(precisions))\n",
        "    else:\n",
        "        bleu = 0.0\n",
        "\n",
        "    return bleu * 100  # Convert to percentage\n",
        "\n",
        "def evaluate_model(model, test_sentences_en, test_sentences_fr,\n",
        "                  en_tokenizer, fr_tokenizer, max_length_fr):\n",
        "    \"\"\"Evaluate model on test set\"\"\"\n",
        "    total_bleu = 0\n",
        "    num_sentences = len(test_sentences_en)\n",
        "\n",
        "    for i in range(num_sentences):\n",
        "        english_sentence = test_sentences_en[i]\n",
        "        reference_french = test_sentences_fr[i]\n",
        "\n",
        "        # Remove start and end tokens from reference\n",
        "        reference_french = reference_french.replace('<start> ', '').replace(' <end>', '')\n",
        "\n",
        "        # Correctly unpack the three values returned by translate\n",
        "        predicted_french, _, _ = translate(english_sentence, model, en_tokenizer,\n",
        "                                      fr_tokenizer, max_length_fr)\n",
        "        predicted_french = predicted_french.replace('<start> ', '').replace(' <end>', '')\n",
        "\n",
        "        bleu = calculate_bleu_score(reference_french, predicted_french)\n",
        "        total_bleu += bleu\n",
        "\n",
        "        if i < 5:  # Print first 5 examples\n",
        "            print(f\"English: {english_sentence}\")\n",
        "            print(f\"Reference: {reference_french}\")\n",
        "            print(f\"Predicted: {predicted_french}\")\n",
        "            print(f\"BLEU Score: {bleu:.2f}\")\n",
        "            print(\"-\" * 50)\n",
        "\n",
        "    avg_bleu = total_bleu / num_sentences\n",
        "    print(f\"Average BLEU Score: {avg_bleu:.2f}\")\n",
        "    return avg_bleu"
      ],
      "metadata": {
        "id": "nVVnf7wzJwaJ"
      },
      "execution_count": 113,
      "outputs": []
    },
    {
      "cell_type": "markdown",
      "source": [
        "## Visualization\n",
        "## Attention Visualization"
      ],
      "metadata": {
        "id": "BU80mdxkJ645"
      }
    },
    {
      "cell_type": "code",
      "source": [
        "def plot_attention(attention, sentence, predicted_sentence):\n",
        "    \"\"\"Plot attention weights\"\"\"\n",
        "\n",
        "    sentence_tokens = sentence.split(' ')\n",
        "    predicted_tokens = predicted_sentence.split(' ')\n",
        "\n",
        "    # Remove end token if present in predicted sentence\n",
        "    if '<end>' in predicted_tokens:\n",
        "        end_idx = predicted_tokens.index('<end>')\n",
        "        predicted_tokens = predicted_tokens[:end_idx]\n",
        "        # Slice attention matrix to match the length of the predicted sentence\n",
        "        attention = attention[:len(predicted_tokens), :]\n",
        "\n",
        "    # Slice attention matrix to match the length of the input sentence\n",
        "    attention = attention[:, :len(sentence_tokens)]\n",
        "\n",
        "    fig = plt.figure(figsize=(12, 8))\n",
        "    ax = fig.add_subplot(1, 1, 1)\n",
        "\n",
        "    ax.matshow(attention, cmap='Blues')\n",
        "\n",
        "    ax.set_xticklabels([''] + sentence_tokens, rotation=90)\n",
        "    ax.set_yticklabels([''] + predicted_tokens)\n",
        "\n",
        "    ax.xaxis.set_major_locator(ticker.MultipleLocator(1))\n",
        "    ax.yaxis.set_major_locator(ticker.MultipleLocator(1))\n",
        "\n",
        "    plt.xlabel('English Input')\n",
        "    plt.ylabel('French Output')\n",
        "    plt.title('Attention Visualization')\n",
        "\n",
        "    plt.tight_layout()\n",
        "    plt.show()\n",
        "\n",
        "def visualize_attention_for_sentence(sentence, model, en_tokenizer, fr_tokenizer, max_length_fr):\n",
        "    \"\"\"Visualize attention for a specific sentence\"\"\"\n",
        "    result, processed_sentence, attention_plot = translate(\n",
        "        sentence, model, en_tokenizer, fr_tokenizer, max_length_fr)\n",
        "\n",
        "    print(f'Input: {sentence}')\n",
        "    print(f'Prediction: {result}')\n",
        "\n",
        "    plot_attention(attention_plot, processed_sentence, result)\n",
        "\n",
        "    return result, attention_plot"
      ],
      "metadata": {
        "id": "9LdfT2OkJ4FZ"
      },
      "execution_count": 114,
      "outputs": []
    },
    {
      "cell_type": "markdown",
      "source": [
        "## Complete Implementation\n",
        "## Main Training Script"
      ],
      "metadata": {
        "id": "yScn8YjGKDKO"
      }
    },
    {
      "cell_type": "code",
      "metadata": {
        "id": "a97cdfe0",
        "colab": {
          "base_uri": "https://localhost:8080/",
          "height": 1000
        },
        "outputId": "5d5a5f6e-8111-4a9e-ae1d-bd6bed64db94"
      },
      "source": [
        "def main():\n",
        "    # Hyperparameters\n",
        "    BATCH_SIZE = 64\n",
        "    embedding_dim = 256\n",
        "    units = 512\n",
        "    # Reduced number of epochs for faster execution\n",
        "    EPOCHS = 50  # Reduced from 20\n",
        "\n",
        "    # Create checkpoints directory if it doesn't exist\n",
        "    if not os.path.exists('checkpoints'):\n",
        "        os.makedirs('checkpoints')\n",
        "\n",
        "    print(\"Loading and preprocessing data...\")\n",
        "\n",
        "    # Load dataset (replace with your dataset path)\n",
        "    # Reduced number of examples for faster execution\n",
        "    en, fr = create_dataset('fra.txt', num_examples=10000) # Reduced from 30000\n",
        "\n",
        "    # Create tokenizers and datasets\n",
        "    input_tensor, target_tensor, en_tokenizer, fr_tokenizer, max_length_en, max_length_fr = create_tokenizers_and_datasets(en, fr)\n",
        "\n",
        "    # Split dataset\n",
        "    input_tensor_train, input_tensor_val, target_tensor_train, target_tensor_val = train_test_split(\n",
        "        input_tensor, target_tensor, test_size=0.2, random_state=42)\n",
        "\n",
        "    print(f\"Training samples: {len(input_tensor_train)}\")\n",
        "    print(f\"Validation samples: {len(input_tensor_val)}\")\n",
        "\n",
        "    # Create tf.data.Dataset\n",
        "    BUFFER_SIZE = len(input_tensor_train)\n",
        "    steps_per_epoch = len(input_tensor_train) // BATCH_SIZE\n",
        "\n",
        "    dataset = tf.data.Dataset.from_tensor_slices((input_tensor_train, target_tensor_train))\n",
        "    dataset = dataset.shuffle(BUFFER_SIZE).batch(BATCH_SIZE, drop_remainder=True)\n",
        "\n",
        "    # Initialize model\n",
        "    model = EncoderDecoderModel(\n",
        "        enc_vocab_size=len(en_tokenizer.word2idx),\n",
        "        dec_vocab_size=len(fr_tokenizer.word2idx),\n",
        "        embedding_dim=embedding_dim,\n",
        "        enc_units=units,\n",
        "        dec_units=units,\n",
        "        batch_size=BATCH_SIZE\n",
        "    )\n",
        "\n",
        "    # Build the model by passing a sample batch\n",
        "    for inp_batch, targ_batch in dataset.take(1):\n",
        "        _ = model([inp_batch, targ_batch[:, :-1]]) # Pass through the model to build it\n",
        "        break\n",
        "\n",
        "    # Re-initialize the optimizer after the model is built\n",
        "    global optimizer\n",
        "    optimizer = tf.keras.optimizers.Adam(learning_rate=0.001)\n",
        "\n",
        "    print(\"Starting training...\")\n",
        "\n",
        "    # Train model\n",
        "    train_model(model, dataset, EPOCHS, steps_per_epoch)\n",
        "\n",
        "    # Save final model\n",
        "    model.save_weights('checkpoints/final_model.weights.h5')\n",
        "    print(\"Training completed and model saved!\")\n",
        "\n",
        "    # Test translation\n",
        "    test_sentences = [\n",
        "        \"I love you.\",\n",
        "        \"How are you?\",\n",
        "        \"Good morning.\",\n",
        "        \"This is a beautiful day.\",\n",
        "        \"Where is the bathroom?\"\n",
        "    ]\n",
        "\n",
        "    print(\"\\n\" + \"=\"*50)\n",
        "    print(\"TESTING TRANSLATIONS\")\n",
        "    print(\"=\"*50)\n",
        "\n",
        "    for sentence in test_sentences:\n",
        "        result, attention_plot = evaluate_translation(sentence, model, en_tokenizer, fr_tokenizer, max_length_fr)\n",
        "        visualize_attention_for_sentence(sentence, model, en_tokenizer, fr_tokenizer, max_length_fr)\n",
        "        print()\n",
        "\n",
        "    # Evaluate on validation set\n",
        "    print(\"\\n\" + \"=\"*50)\n",
        "    print(\"EVALUATING ON VALIDATION SET\")\n",
        "    print(\"=\"*50)\n",
        "\n",
        "    # Convert validation tensors back to sentences for BLEU evaluation\n",
        "    val_en_sentences = [en_tokenizer.decode(seq) for seq in input_tensor_val[:100]]\n",
        "    val_fr_sentences = [fr_tokenizer.decode(seq) for seq in target_tensor_val[:100]]\n",
        "\n",
        "    avg_bleu = evaluate_model(model, val_en_sentences, val_fr_sentences,\n",
        "                            en_tokenizer, fr_tokenizer, max_length_fr)\n",
        "\n",
        "if __name__ == \"__main__\":\n",
        "    main()"
      ],
      "execution_count": 115,
      "outputs": [
        {
          "output_type": "stream",
          "name": "stdout",
          "text": [
            "Loading and preprocessing data...\n",
            "English max length: 8\n",
            "French max length: 15\n",
            "English vocab size: 1989\n",
            "French vocab size: 3685\n",
            "Training samples: 8000\n",
            "Validation samples: 2000\n",
            "Starting training...\n",
            "Starting training...\n",
            "Epoch 1 Batch 0 Loss 3.1986\n",
            "Epoch 1 Batch 100 Loss 1.6528\n",
            "Epoch 1 Loss 1.7719\n",
            "Time taken for 1 epoch 72.47 sec\n",
            "\n",
            "Epoch 2 Batch 0 Loss 1.3684\n",
            "Epoch 2 Batch 100 Loss 1.3398\n",
            "Epoch 2 Loss 1.4451\n",
            "Time taken for 1 epoch 68.00 sec\n",
            "\n",
            "Epoch 3 Batch 0 Loss 1.3379\n",
            "Epoch 3 Batch 100 Loss 1.3051\n",
            "Epoch 3 Loss 1.2592\n",
            "Time taken for 1 epoch 65.72 sec\n",
            "\n",
            "Epoch 4 Batch 0 Loss 1.0968\n",
            "Epoch 4 Batch 100 Loss 1.0960\n",
            "Epoch 4 Loss 1.1181\n",
            "Time taken for 1 epoch 65.55 sec\n",
            "\n",
            "Epoch 5 Batch 0 Loss 1.0662\n",
            "Epoch 5 Batch 100 Loss 1.0353\n",
            "Epoch 5 Loss 1.0026\n",
            "Time taken for 1 epoch 64.67 sec\n",
            "\n",
            "Checkpoint saved at epoch 5\n",
            "Epoch 6 Batch 0 Loss 0.9592\n",
            "Epoch 6 Batch 100 Loss 0.8480\n",
            "Epoch 6 Loss 0.8960\n",
            "Time taken for 1 epoch 65.47 sec\n",
            "\n",
            "Epoch 7 Batch 0 Loss 0.8438\n",
            "Epoch 7 Batch 100 Loss 0.7372\n",
            "Epoch 7 Loss 0.8046\n",
            "Time taken for 1 epoch 63.85 sec\n",
            "\n",
            "Epoch 8 Batch 0 Loss 0.6929\n",
            "Epoch 8 Batch 100 Loss 0.7513\n",
            "Epoch 8 Loss 0.7189\n",
            "Time taken for 1 epoch 64.73 sec\n",
            "\n",
            "Epoch 9 Batch 0 Loss 0.6519\n",
            "Epoch 9 Batch 100 Loss 0.6625\n",
            "Epoch 9 Loss 0.6443\n",
            "Time taken for 1 epoch 65.72 sec\n",
            "\n",
            "Epoch 10 Batch 0 Loss 0.5197\n",
            "Epoch 10 Batch 100 Loss 0.5900\n",
            "Epoch 10 Loss 0.5771\n",
            "Time taken for 1 epoch 63.98 sec\n",
            "\n",
            "Checkpoint saved at epoch 10\n",
            "Epoch 11 Batch 0 Loss 0.4384\n",
            "Epoch 11 Batch 100 Loss 0.4771\n",
            "Epoch 11 Loss 0.5117\n",
            "Time taken for 1 epoch 81.91 sec\n",
            "\n",
            "Epoch 12 Batch 0 Loss 0.4143\n",
            "Epoch 12 Batch 100 Loss 0.4611\n",
            "Epoch 12 Loss 0.4565\n",
            "Time taken for 1 epoch 63.21 sec\n",
            "\n",
            "Epoch 13 Batch 0 Loss 0.4091\n",
            "Epoch 13 Batch 100 Loss 0.4243\n",
            "Epoch 13 Loss 0.4081\n",
            "Time taken for 1 epoch 81.91 sec\n",
            "\n",
            "Epoch 14 Batch 0 Loss 0.3490\n",
            "Epoch 14 Batch 100 Loss 0.4080\n",
            "Epoch 14 Loss 0.3658\n",
            "Time taken for 1 epoch 64.08 sec\n",
            "\n",
            "Epoch 15 Batch 0 Loss 0.3288\n",
            "Epoch 15 Batch 100 Loss 0.3318\n",
            "Epoch 15 Loss 0.3291\n",
            "Time taken for 1 epoch 64.64 sec\n",
            "\n",
            "Checkpoint saved at epoch 15\n",
            "Epoch 16 Batch 0 Loss 0.2622\n",
            "Epoch 16 Batch 100 Loss 0.2846\n",
            "Epoch 16 Loss 0.2935\n",
            "Time taken for 1 epoch 64.83 sec\n",
            "\n",
            "Epoch 17 Batch 0 Loss 0.2301\n",
            "Epoch 17 Batch 100 Loss 0.2440\n",
            "Epoch 17 Loss 0.2588\n",
            "Time taken for 1 epoch 65.25 sec\n",
            "\n",
            "Epoch 18 Batch 0 Loss 0.1933\n",
            "Epoch 18 Batch 100 Loss 0.3196\n",
            "Epoch 18 Loss 0.2371\n",
            "Time taken for 1 epoch 65.87 sec\n",
            "\n",
            "Epoch 19 Batch 0 Loss 0.1999\n",
            "Epoch 19 Batch 100 Loss 0.2059\n",
            "Epoch 19 Loss 0.2142\n",
            "Time taken for 1 epoch 64.94 sec\n",
            "\n",
            "Epoch 20 Batch 0 Loss 0.1624\n",
            "Epoch 20 Batch 100 Loss 0.2127\n",
            "Epoch 20 Loss 0.1998\n",
            "Time taken for 1 epoch 65.92 sec\n",
            "\n",
            "Checkpoint saved at epoch 20\n",
            "Epoch 21 Batch 0 Loss 0.1615\n",
            "Epoch 21 Batch 100 Loss 0.2476\n",
            "Epoch 21 Loss 0.1874\n",
            "Time taken for 1 epoch 66.28 sec\n",
            "\n",
            "Epoch 22 Batch 0 Loss 0.1588\n",
            "Epoch 22 Batch 100 Loss 0.1804\n",
            "Epoch 22 Loss 0.1727\n",
            "Time taken for 1 epoch 65.47 sec\n",
            "\n",
            "Epoch 23 Batch 0 Loss 0.1232\n",
            "Epoch 23 Batch 100 Loss 0.1807\n",
            "Epoch 23 Loss 0.1631\n",
            "Time taken for 1 epoch 66.88 sec\n",
            "\n",
            "Epoch 24 Batch 0 Loss 0.1449\n",
            "Epoch 24 Batch 100 Loss 0.1763\n",
            "Epoch 24 Loss 0.1534\n",
            "Time taken for 1 epoch 65.36 sec\n",
            "\n",
            "Epoch 25 Batch 0 Loss 0.1097\n",
            "Epoch 25 Batch 100 Loss 0.1481\n",
            "Epoch 25 Loss 0.1456\n",
            "Time taken for 1 epoch 66.61 sec\n",
            "\n",
            "Checkpoint saved at epoch 25\n",
            "Epoch 26 Batch 0 Loss 0.1071\n",
            "Epoch 26 Batch 100 Loss 0.1486\n",
            "Epoch 26 Loss 0.1399\n",
            "Time taken for 1 epoch 66.61 sec\n",
            "\n",
            "Epoch 27 Batch 0 Loss 0.1041\n",
            "Epoch 27 Batch 100 Loss 0.1623\n",
            "Epoch 27 Loss 0.1352\n",
            "Time taken for 1 epoch 66.10 sec\n",
            "\n",
            "Epoch 28 Batch 0 Loss 0.1162\n",
            "Epoch 28 Batch 100 Loss 0.1496\n",
            "Epoch 28 Loss 0.1338\n",
            "Time taken for 1 epoch 64.19 sec\n",
            "\n",
            "Epoch 29 Batch 0 Loss 0.0989\n",
            "Epoch 29 Batch 100 Loss 0.1408\n",
            "Epoch 29 Loss 0.1295\n",
            "Time taken for 1 epoch 65.24 sec\n",
            "\n",
            "Epoch 30 Batch 0 Loss 0.1193\n",
            "Epoch 30 Batch 100 Loss 0.1453\n",
            "Epoch 30 Loss 0.1263\n",
            "Time taken for 1 epoch 64.86 sec\n",
            "\n",
            "Checkpoint saved at epoch 30\n",
            "Epoch 31 Batch 0 Loss 0.0974\n",
            "Epoch 31 Batch 100 Loss 0.1394\n",
            "Epoch 31 Loss 0.1233\n",
            "Time taken for 1 epoch 64.19 sec\n",
            "\n",
            "Epoch 32 Batch 0 Loss 0.0775\n",
            "Epoch 32 Batch 100 Loss 0.1644\n",
            "Epoch 32 Loss 0.1192\n",
            "Time taken for 1 epoch 64.13 sec\n",
            "\n",
            "Epoch 33 Batch 0 Loss 0.0982\n",
            "Epoch 33 Batch 100 Loss 0.1295\n",
            "Epoch 33 Loss 0.1188\n",
            "Time taken for 1 epoch 65.54 sec\n",
            "\n",
            "Epoch 34 Batch 0 Loss 0.0849\n",
            "Epoch 34 Batch 100 Loss 0.1550\n",
            "Epoch 34 Loss 0.1178\n",
            "Time taken for 1 epoch 63.89 sec\n",
            "\n",
            "Epoch 35 Batch 0 Loss 0.0913\n",
            "Epoch 35 Batch 100 Loss 0.1433\n",
            "Epoch 35 Loss 0.1172\n",
            "Time taken for 1 epoch 63.99 sec\n",
            "\n",
            "Checkpoint saved at epoch 35\n",
            "Epoch 36 Batch 0 Loss 0.0888\n",
            "Epoch 36 Batch 100 Loss 0.1202\n",
            "Epoch 36 Loss 0.1165\n",
            "Time taken for 1 epoch 64.96 sec\n",
            "\n",
            "Epoch 37 Batch 0 Loss 0.0911\n",
            "Epoch 37 Batch 100 Loss 0.1563\n",
            "Epoch 37 Loss 0.1222\n",
            "Time taken for 1 epoch 64.85 sec\n",
            "\n",
            "Epoch 38 Batch 0 Loss 0.0869\n",
            "Epoch 38 Batch 100 Loss 0.1214\n",
            "Epoch 38 Loss 0.1180\n",
            "Time taken for 1 epoch 63.06 sec\n",
            "\n",
            "Epoch 39 Batch 0 Loss 0.0967\n",
            "Epoch 39 Batch 100 Loss 0.1258\n",
            "Epoch 39 Loss 0.1152\n",
            "Time taken for 1 epoch 63.22 sec\n",
            "\n",
            "Epoch 40 Batch 0 Loss 0.0960\n",
            "Epoch 40 Batch 100 Loss 0.1518\n",
            "Epoch 40 Loss 0.1147\n",
            "Time taken for 1 epoch 64.09 sec\n",
            "\n",
            "Checkpoint saved at epoch 40\n",
            "Epoch 41 Batch 0 Loss 0.0780\n",
            "Epoch 41 Batch 100 Loss 0.1417\n",
            "Epoch 41 Loss 0.1118\n",
            "Time taken for 1 epoch 64.32 sec\n",
            "\n",
            "Epoch 42 Batch 0 Loss 0.1030\n",
            "Epoch 42 Batch 100 Loss 0.1102\n",
            "Epoch 42 Loss 0.1113\n",
            "Time taken for 1 epoch 63.79 sec\n",
            "\n",
            "Epoch 43 Batch 0 Loss 0.0635\n",
            "Epoch 43 Batch 100 Loss 0.0998\n",
            "Epoch 43 Loss 0.1104\n",
            "Time taken for 1 epoch 63.27 sec\n",
            "\n",
            "Epoch 44 Batch 0 Loss 0.0838\n",
            "Epoch 44 Batch 100 Loss 0.1350\n",
            "Epoch 44 Loss 0.1105\n",
            "Time taken for 1 epoch 64.21 sec\n",
            "\n",
            "Epoch 45 Batch 0 Loss 0.0707\n",
            "Epoch 45 Batch 100 Loss 0.1052\n",
            "Epoch 45 Loss 0.1111\n",
            "Time taken for 1 epoch 64.03 sec\n",
            "\n",
            "Checkpoint saved at epoch 45\n",
            "Epoch 46 Batch 0 Loss 0.0943\n",
            "Epoch 46 Batch 100 Loss 0.1148\n",
            "Epoch 46 Loss 0.1122\n",
            "Time taken for 1 epoch 63.40 sec\n",
            "\n",
            "Epoch 47 Batch 0 Loss 0.0650\n",
            "Epoch 47 Batch 100 Loss 0.0972\n",
            "Epoch 47 Loss 0.1098\n",
            "Time taken for 1 epoch 63.00 sec\n",
            "\n",
            "Epoch 48 Batch 0 Loss 0.0944\n",
            "Epoch 48 Batch 100 Loss 0.1211\n",
            "Epoch 48 Loss 0.1086\n",
            "Time taken for 1 epoch 63.55 sec\n",
            "\n",
            "Epoch 49 Batch 0 Loss 0.0962\n",
            "Epoch 49 Batch 100 Loss 0.1366\n",
            "Epoch 49 Loss 0.1096\n",
            "Time taken for 1 epoch 62.59 sec\n",
            "\n",
            "Epoch 50 Batch 0 Loss 0.0818\n",
            "Epoch 50 Batch 100 Loss 0.1055\n",
            "Epoch 50 Loss 0.1069\n",
            "Time taken for 1 epoch 63.50 sec\n",
            "\n",
            "Checkpoint saved at epoch 50\n",
            "Training completed and model saved!\n",
            "\n",
            "==================================================\n",
            "TESTING TRANSLATIONS\n",
            "==================================================\n",
            "Input: <start> i love you . <end>\n",
            "Predicted translation: je t adore ! <end>\n",
            "Input: I love you.\n",
            "Prediction: je t adore ! <end>\n"
          ]
        },
        {
          "output_type": "stream",
          "name": "stderr",
          "text": [
            "/tmp/ipython-input-201340429.py:22: UserWarning: set_ticklabels() should only be used with a fixed number of ticks, i.e. after set_ticks() or using a FixedLocator.\n",
            "  ax.set_xticklabels([''] + sentence_tokens, rotation=90)\n",
            "/tmp/ipython-input-201340429.py:23: UserWarning: set_ticklabels() should only be used with a fixed number of ticks, i.e. after set_ticks() or using a FixedLocator.\n",
            "  ax.set_yticklabels([''] + predicted_tokens)\n"
          ]
        },
        {
          "output_type": "display_data",
          "data": {
            "text/plain": [
              "<Figure size 1200x800 with 1 Axes>"
            ],
            "image/png": "[encoded data removed]"
          },
          "metadata": {}
        },
        {
          "output_type": "stream",
          "name": "stdout",
          "text": [
            "\n",
            "Input: <start> how are you ? <end>\n",
            "Predicted translation: ca va ? <end>\n",
            "Input: How are you?\n",
            "Prediction: ca va ? <end>\n"
          ]
        },
        {
          "output_type": "stream",
          "name": "stderr",
          "text": [
            "/tmp/ipython-input-201340429.py:22: UserWarning: set_ticklabels() should only be used with a fixed number of ticks, i.e. after set_ticks() or using a FixedLocator.\n",
            "  ax.set_xticklabels([''] + sentence_tokens, rotation=90)\n",
            "/tmp/ipython-input-201340429.py:23: UserWarning: set_ticklabels() should only be used with a fixed number of ticks, i.e. after set_ticks() or using a FixedLocator.\n",
            "  ax.set_yticklabels([''] + predicted_tokens)\n"
          ]
        },
        {
          "output_type": "display_data",
          "data": {
            "text/plain": [
              "<Figure size 1200x800 with 1 Axes>"
            ],
            "image/png": "[encoded data removed]"
          },
          "metadata": {}
        },
        {
          "output_type": "stream",
          "name": "stdout",
          "text": [
            "\n",
            "Input: <start> good morning . <end>\n",
            "Predicted translation: bonjour ! <end>\n",
            "Input: Good morning.\n",
            "Prediction: bonjour ! <end>\n"
          ]
        },
        {
          "output_type": "stream",
          "name": "stderr",
          "text": [
            "/tmp/ipython-input-201340429.py:22: UserWarning: set_ticklabels() should only be used with a fixed number of ticks, i.e. after set_ticks() or using a FixedLocator.\n",
            "  ax.set_xticklabels([''] + sentence_tokens, rotation=90)\n",
            "/tmp/ipython-input-201340429.py:23: UserWarning: set_ticklabels() should only be used with a fixed number of ticks, i.e. after set_ticks() or using a FixedLocator.\n",
            "  ax.set_yticklabels([''] + predicted_tokens)\n"
          ]
        },
        {
          "output_type": "display_data",
          "data": {
            "text/plain": [
              "<Figure size 1200x800 with 1 Axes>"
            ],
            "image/png": "[encoded data removed]"
          },
          "metadata": {}
        },
        {
          "output_type": "stream",
          "name": "stdout",
          "text": [
            "\n",
            "Input: <start> this is a beautiful day . <end>\n",
            "Predicted translation: c est un bizarre . <end>\n",
            "Input: This is a beautiful day.\n",
            "Prediction: c est un bizarre . <end>\n"
          ]
        },
        {
          "output_type": "stream",
          "name": "stderr",
          "text": [
            "/tmp/ipython-input-201340429.py:22: UserWarning: set_ticklabels() should only be used with a fixed number of ticks, i.e. after set_ticks() or using a FixedLocator.\n",
            "  ax.set_xticklabels([''] + sentence_tokens, rotation=90)\n",
            "/tmp/ipython-input-201340429.py:23: UserWarning: set_ticklabels() should only be used with a fixed number of ticks, i.e. after set_ticks() or using a FixedLocator.\n",
            "  ax.set_yticklabels([''] + predicted_tokens)\n"
          ]
        },
        {
          "output_type": "display_data",
          "data": {
            "text/plain": [
              "<Figure size 1200x800 with 1 Axes>"
            ],
            "image/png": "[encoded data removed]"
          },
          "metadata": {}
        },
        {
          "output_type": "stream",
          "name": "stdout",
          "text": [
            "\n",
            "Input: <start> where is the bathroom ? <end>\n",
            "Predicted translation: ou est ce que tom s est peur ? <end>\n",
            "Input: Where is the bathroom?\n",
            "Prediction: ou est ce que tom s est peur ? <end>\n"
          ]
        },
        {
          "output_type": "stream",
          "name": "stderr",
          "text": [
            "/tmp/ipython-input-201340429.py:22: UserWarning: set_ticklabels() should only be used with a fixed number of ticks, i.e. after set_ticks() or using a FixedLocator.\n",
            "  ax.set_xticklabels([''] + sentence_tokens, rotation=90)\n",
            "/tmp/ipython-input-201340429.py:23: UserWarning: set_ticklabels() should only be used with a fixed number of ticks, i.e. after set_ticks() or using a FixedLocator.\n",
            "  ax.set_yticklabels([''] + predicted_tokens)\n"
          ]
        },
        {
          "output_type": "display_data",
          "data": {
            "text/plain": [
              "<Figure size 1200x800 with 1 Axes>"
            ],
            "image/png": "[encoded data removed]"
          },
          "metadata": {}
        },
        {
          "output_type": "stream",
          "name": "stdout",
          "text": [
            "\n",
            "\n",
            "==================================================\n",
            "EVALUATING ON VALIDATION SET\n",
            "==================================================\n",
            "English: <start> she is upset . <end>\n",
            "Reference: elle est perturbee .\n",
            "Predicted: elle est tres attirante .\n",
            "BLEU Score: 0.00\n",
            "--------------------------------------------------\n",
            "English: <start> you re mean . <end>\n",
            "Reference: tu es mechante .\n",
            "Predicted: on etait sourd .\n",
            "BLEU Score: 0.00\n",
            "--------------------------------------------------\n",
            "English: <start> wonderful ! <end>\n",
            "Reference: genial !\n",
            "Predicted: c est super .\n",
            "BLEU Score: 0.00\n",
            "--------------------------------------------------\n",
            "English: <start> all was calm . <end>\n",
            "Reference: le calme regnait .\n",
            "Predicted: nous sommes facile a l nager .\n",
            "BLEU Score: 0.00\n",
            "--------------------------------------------------\n",
            "English: <start> we re broke . <end>\n",
            "Reference: nous sommes fauchees .\n",
            "Predicted: nous sommes fauches .\n",
            "BLEU Score: 0.00\n",
            "--------------------------------------------------\n",
            "Average BLEU Score: 2.00\n"
          ]
        }
      ]
    },
    {
      "cell_type": "code",
      "source": [],
      "metadata": {
        "id": "vs7zK981RdZS"
      },
      "execution_count": 115,
      "outputs": []
    }
  ]
}